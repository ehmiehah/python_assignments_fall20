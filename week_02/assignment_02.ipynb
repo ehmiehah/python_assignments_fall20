{
 "cells": [
  {
   "cell_type": "markdown",
   "metadata": {},
   "source": [
    "# Practice Exercise"
   ]
  },
  {
   "cell_type": "markdown",
   "metadata": {},
   "source": [
    "Exercise 1:"
   ]
  },
  {
   "cell_type": "code",
   "execution_count": null,
   "metadata": {},
   "outputs": [],
   "source": [
    "# using functions and nested functions reformat your calculator code\n",
    "# so users can use our calculator again and again!"
   ]
  },
  {
   "cell_type": "code",
   "execution_count": 25,
   "metadata": {},
   "outputs": [
    {
     "name": "stdout",
     "output_type": "stream",
     "text": [
      "Please enter your first number:1\n",
      "Please enter your second number:2\n",
      "1.Add\n",
      "2.Subtract\n",
      "3.Divide\n",
      "4.Multiply\n",
      "Please select an operator:2\n",
      "1.0 - 2.0 = -1.0\n",
      "Do you want to calculate another example?: no\n",
      "Okay, see you soon!\n"
     ]
    }
   ],
   "source": [
    "# Function that runs the calculator\n",
    "def calculator():\n",
    "\n",
    "# Addition\n",
    "    def add(x, y):\n",
    "        return x + y\n",
    "\n",
    "# Subtraction\n",
    "    def subtract(x, y):\n",
    "        return x - y\n",
    "\n",
    "# Division\n",
    "    def divide(x, y):\n",
    "        return x / y\n",
    "\n",
    "# Multiplication\n",
    "    def multiply(x, y):\n",
    "        return x * y\n",
    "\n",
    "\n",
    "    x = float(input(\"Please enter your first number:\"))\n",
    "    y = float(input (\"Please enter your second number:\"))\n",
    "\n",
    "\n",
    "    print(\"1.Add\")\n",
    "    print(\"2.Subtract\")\n",
    "    print(\"3.Divide\")\n",
    "    print(\"4.Multiply\")\n",
    "    operator = str(input(\"Please select an operator:\"))\n",
    "\n",
    "    if operator == '1':\n",
    "        print(x, \"+\", y, \"=\", add(x, y))\n",
    "    \n",
    "    elif operator == \"2\":\n",
    "        print(x, \"-\", y, \"=\", subtract(x, y))\n",
    "\n",
    "    elif operator == \"3\":\n",
    "        print(x, \"/\", y, \"=\", divide(x, y))\n",
    "\n",
    "    elif operator == \"4\":\n",
    "        print(x, \"*\", y, \"=\", multiply(x, y))\n",
    "        \n",
    "    \n",
    "    restart = str(input(\"Do you want to calculate another example?: \"))\n",
    "    \n",
    "    if restart == \"yes\":\n",
    "        calculator()\n",
    "        \n",
    "    elif restart == \"no\":\n",
    "        print(\"Okay, see you soon!\")\n",
    "        \n",
    "calculator()\n",
    "        \n"
   ]
  },
  {
   "cell_type": "markdown",
   "metadata": {},
   "source": [
    "Exercise 2:"
   ]
  },
  {
   "cell_type": "code",
   "execution_count": 1,
   "metadata": {},
   "outputs": [],
   "source": [
    "# Print the first 10 natural numbers using a loop \n",
    "\n",
    "# Expected output: \n",
    "# 0\n",
    "# 1\n",
    "# 2\n",
    "# 3\n",
    "# 4\n",
    "# 5\n",
    "# 6\n",
    "# 7\n",
    "# 8\n",
    "# 9\n",
    "# 10"
   ]
  },
  {
   "cell_type": "markdown",
   "metadata": {},
   "source": [
    "Write your code below:"
   ]
  },
  {
   "cell_type": "code",
   "execution_count": 29,
   "metadata": {},
   "outputs": [
    {
     "name": "stdout",
     "output_type": "stream",
     "text": [
      "0\n",
      "1\n",
      "2\n",
      "3\n",
      "4\n",
      "5\n",
      "6\n",
      "7\n",
      "8\n",
      "9\n",
      "10\n"
     ]
    }
   ],
   "source": [
    "x = 0\n",
    "while x <= 10:\n",
    "    print(x)\n",
    "    x += 1 \n",
    "    "
   ]
  },
  {
   "cell_type": "markdown",
   "metadata": {},
   "source": [
    "Exercise 3:"
   ]
  },
  {
   "cell_type": "code",
   "execution_count": 1,
   "metadata": {},
   "outputs": [],
   "source": [
    "# Execute the loop in exercise 1 and print the message Done! after \n",
    "\n",
    "# Expected output: \n",
    "# 0\n",
    "# 1\n",
    "# 2\n",
    "# 3\n",
    "# 4\n",
    "# 5\n",
    "# 6\n",
    "# 7\n",
    "# 8\n",
    "# 9\n",
    "# 10\n",
    "# Done! "
   ]
  },
  {
   "cell_type": "markdown",
   "metadata": {},
   "source": [
    "Write your code below:"
   ]
  },
  {
   "cell_type": "code",
   "execution_count": 34,
   "metadata": {},
   "outputs": [
    {
     "name": "stdout",
     "output_type": "stream",
     "text": [
      "0\n",
      "1\n",
      "2\n",
      "3\n",
      "4\n",
      "5\n",
      "6\n",
      "7\n",
      "8\n",
      "9\n",
      "10\n",
      "Done!\n"
     ]
    }
   ],
   "source": [
    "x = 0\n",
    "while x <= 10:\n",
    "    print(x)\n",
    "    x += 1 \n",
    "    \n",
    "    if x > 10:\n",
    "        print(\"Done!\")"
   ]
  },
  {
   "cell_type": "markdown",
   "metadata": {},
   "source": [
    "Exercise 4:"
   ]
  },
  {
   "cell_type": "code",
   "execution_count": 3,
   "metadata": {},
   "outputs": [],
   "source": [
    "# Print the numbers greater than 150 from the list \n",
    "\n",
    "# list = [12, 15, 47, 63, 78, 101, 157, 178, 189]\n",
    "# Expected output: \n",
    "\n",
    "# 157\n",
    "# 178 \n",
    "# 189 "
   ]
  },
  {
   "cell_type": "markdown",
   "metadata": {},
   "source": [
    "Write your code below:"
   ]
  },
  {
   "cell_type": "code",
   "execution_count": 41,
   "metadata": {},
   "outputs": [
    {
     "name": "stdout",
     "output_type": "stream",
     "text": [
      "157\n",
      "178\n",
      "189\n"
     ]
    }
   ],
   "source": [
    "list = [12, 15, 47, 63, 78, 101, 157, 178, 189]\n",
    "threshold = 150\n",
    "for e in list : \n",
    "    if e > threshold : \n",
    "        print(e)"
   ]
  },
  {
   "cell_type": "markdown",
   "metadata": {},
   "source": [
    "Exercise 5:"
   ]
  },
  {
   "cell_type": "code",
   "execution_count": 4,
   "metadata": {},
   "outputs": [],
   "source": [
    "# Print the number that is even and less than 150 \n",
    "\n",
    "# list = [12, 15, 47, 63, 78, 101, 157, 178, 189]\n",
    "# Expected output: \n",
    "\n",
    "# 12\n",
    "# 78\n",
    "\n",
    "# Hint: if you find a number greater than 150, stop the loop with a break"
   ]
  },
  {
   "cell_type": "markdown",
   "metadata": {},
   "source": [
    "Write your code below:"
   ]
  },
  {
   "cell_type": "code",
   "execution_count": 45,
   "metadata": {},
   "outputs": [
    {
     "name": "stdout",
     "output_type": "stream",
     "text": [
      "12\n",
      "78\n"
     ]
    }
   ],
   "source": [
    "list = [12, 15, 47, 63, 78, 101, 157, 178, 189]\n",
    "threshold = 150\n",
    "for e in list : \n",
    "    if e <= threshold:\n",
    "        if e % 2 ==0:\n",
    "            print(e)"
   ]
  },
  {
   "cell_type": "markdown",
   "metadata": {},
   "source": [
    "Exercise 6:"
   ]
  },
  {
   "cell_type": "code",
   "execution_count": null,
   "metadata": {},
   "outputs": [],
   "source": [
    "# This will be a challenging!\n",
    "\n",
    "# Write a while loop that flips a coin 10 times\n",
    "count = 0\n",
    "def flipcoin():\n",
    "    \n",
    "\n",
    "while count <= 10\n",
    "   \n",
    "\n",
    "# Hint: Look into the random library using: \n",
    "# https://docs.python.org/3/library/random.html\n",
    "# https://www.pythonforbeginners.com/random/how-to-use-the-random-module-in-python"
   ]
  },
  {
   "cell_type": "markdown",
   "metadata": {},
   "source": [
    "Write your code below:"
   ]
  },
  {
   "cell_type": "code",
   "execution_count": 64,
   "metadata": {},
   "outputs": [
    {
     "name": "stdout",
     "output_type": "stream",
     "text": [
      "Coinflip number:\n",
      "1\n",
      "Result:\n",
      "Head\n",
      "Coinflip number:\n",
      "2\n",
      "Result:\n",
      "Head\n",
      "Coinflip number:\n",
      "3\n",
      "Result:\n",
      "Number\n",
      "Coinflip number:\n",
      "4\n",
      "Result:\n",
      "Head\n",
      "Coinflip number:\n",
      "5\n",
      "Result:\n",
      "Head\n",
      "Coinflip number:\n",
      "6\n",
      "Result:\n",
      "Head\n",
      "Coinflip number:\n",
      "7\n",
      "Result:\n",
      "Number\n",
      "Coinflip number:\n",
      "8\n",
      "Result:\n",
      "Number\n",
      "Coinflip number:\n",
      "9\n",
      "Result:\n",
      "Head\n",
      "Coinflip number:\n",
      "10\n",
      "Result:\n",
      "Head\n"
     ]
    }
   ],
   "source": [
    "# importing the python random library\n",
    "import random\n",
    "count = 1\n",
    "def flipcoin():\n",
    "    print(random.choice([\"Head\",\"Number\"]))\n",
    "    \n",
    "while count <= 10:\n",
    "    print(\"Coinflip number:\")\n",
    "    print(count)\n",
    "    count += 1\n",
    "    print(\"Result:\")\n",
    "    flipcoin()\n"
   ]
  },
  {
   "cell_type": "code",
   "execution_count": null,
   "metadata": {},
   "outputs": [],
   "source": []
  },
  {
   "cell_type": "code",
   "execution_count": null,
   "metadata": {},
   "outputs": [],
   "source": []
  }
 ],
 "metadata": {
  "kernelspec": {
   "display_name": "Python 3",
   "language": "python",
   "name": "python3"
  },
  "language_info": {
   "codemirror_mode": {
    "name": "ipython",
    "version": 3
   },
   "file_extension": ".py",
   "mimetype": "text/x-python",
   "name": "python",
   "nbconvert_exporter": "python",
   "pygments_lexer": "ipython3",
   "version": "3.8.3"
  }
 },
 "nbformat": 4,
 "nbformat_minor": 2
}
