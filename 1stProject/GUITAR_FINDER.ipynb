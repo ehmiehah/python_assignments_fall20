{
 "cells": [
  {
   "cell_type": "code",
   "execution_count": 15,
   "metadata": {},
   "outputs": [
    {
     "ename": "SyntaxError",
     "evalue": "invalid syntax (<ipython-input-15-208f8b28e042>, line 29)",
     "output_type": "error",
     "traceback": [
      "\u001b[1;36m  File \u001b[1;32m\"<ipython-input-15-208f8b28e042>\"\u001b[1;36m, line \u001b[1;32m29\u001b[0m\n\u001b[1;33m    img_list = [for i in img_list if i.split('.')[-1] in val_for]\u001b[0m\n\u001b[1;37m                ^\u001b[0m\n\u001b[1;31mSyntaxError\u001b[0m\u001b[1;31m:\u001b[0m invalid syntax\n"
     ]
    }
   ],
   "source": [
    "#PSEUDO CODE FOR GUITAR FINDER\n",
    "\n",
    "# this program helps user to correctly identify an eguitar from a sample image through a decision tree model\n",
    "# then labels the file properly and then add it to a training dataset\n",
    "\n",
    "#STEPS:\n",
    "\n",
    "# Step 1: load necessary libs\n",
    "# Step 2: Take a random image from the folder concertphotos_unlabelled\n",
    "# Step 3: Ask a question about the image\n",
    "# (Step 4: Based on the answer, ask another question)(Optional for now)\n",
    "# (Step 5: Repeat as long as necessary to come to a definite answer)(Optional for now)\n",
    "# Step 6: Create Label --> take final answer and save the image + new label in training folder\n",
    "#-----------------------------------------------------------------------------------------------\n",
    "\n",
    "#CURRENT STATUS / COMMENTS:\n",
    "#28.11. this is still not working, I got it to import images, yet I am struggling to have them properly labelled\n",
    "\n",
    "#Step 1:\n",
    "import os\n",
    "from PIL import Image\n",
    "\n",
    "\n",
    "\n",
    "def create_labels(path):\n",
    "\n",
    "    labels = []\n",
    "    path = path + '/'\n",
    "    val_for = ['jpg', 'jpeg', 'png']\n",
    "    # returns a list containing the names of the entries in the directory given by path\n",
    "    img_list = os.listdir('images') \n",
    "    img_list = [i for i in img_list if i.split('.')[-1] in val_for]\n",
    "    \n",
    "    #iterate through images in folder \"images\"\n",
    "    for i in img_list:\n",
    "        im = Image.open(path + i)\n",
    "        plt.imshow(im)\n",
    "        plt.show()\n",
    "        inp = input()\n",
    "        labels.append(int(inp))\n",
    "        #clear_output(wait=True)\n",
    "        \n",
    "        \n",
    "        \n",
    "    #creates .csv list:    \n",
    "    data = {'Image':img_list, 'Label':labels}\n",
    "    df = pd.DataFrame(data)\n",
    "    df.to_csv('labels.csv') \n",
    "    \n",
    "    print('\\nlabels.csv saved!')\n",
    "    return (df)\n",
    "\n",
    "create_labels(\"images\")"
   ]
  },
  {
   "cell_type": "code",
   "execution_count": null,
   "metadata": {},
   "outputs": [],
   "source": []
  }
 ],
 "metadata": {
  "kernelspec": {
   "display_name": "Python 3",
   "language": "python",
   "name": "python3"
  },
  "language_info": {
   "codemirror_mode": {
    "name": "ipython",
    "version": 3
   },
   "file_extension": ".py",
   "mimetype": "text/x-python",
   "name": "python",
   "nbconvert_exporter": "python",
   "pygments_lexer": "ipython3",
   "version": "3.8.3"
  }
 },
 "nbformat": 4,
 "nbformat_minor": 4
}
