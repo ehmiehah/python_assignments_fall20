{
 "cells": [
  {
   "cell_type": "markdown",
   "metadata": {},
   "source": [
    "### Getting into Class\n",
    "This exercise is to get you familiar with the idea of creating your own class object.\n",
    "\n",
    "This will create a generic Student class that we will be able to extend with other class objects.\n",
    "\n",
    "Your Class should be able to create an Student object instance with the following properties\n",
    "\n",
    "- Construct with default attributes for School Name, Student First Name, and Last Name\n",
    "- Methods to update any of these above attributes\n",
    "- An overloaded method for the str() function to return the Student attributes in a string formatted sentence \"{FirstName} {LastName} is a student of {SchoolName}\"\n",
    "\n",
    "You are free to implement this class however you like. The testing code is included below. Don't be afraid to check the [documentation]('https://docs.python.org/3/tutorial/classes.html') or any other resources you would like! Internet searching is a big part of promgramming"
   ]
  },
  {
   "cell_type": "code",
   "execution_count": 51,
   "metadata": {},
   "outputs": [
    {
     "name": "stdout",
     "output_type": "stream",
     "text": [
      "Mia Meus is a student at BG Gallus. They graduated in the Arts department in 2013.\n",
      "Peter Lois is a student at HTL Bonn. They graduated in the Engineering department in 2016.\n"
     ]
    }
   ],
   "source": [
    "# code here\n",
    "class Students:\n",
    "    def __init__(self,firstname,lastname,schoolname):\n",
    "        self.firstname = firstname\n",
    "        self.lastname = lastname\n",
    "        self.schoolname = schoolname\n",
    "       \n",
    "    def sentence(self):\n",
    "           return \"{firstName} {lastName} is a student at {schoolName}\".format(firstName = self.firstname,lastName = self.lastname,schoolName = self.schoolname)\n",
    "\n",
    "        \n",
    "student1 = Students(\"Mia\",\"Meus\",\"BG Gallus\")\n",
    "print(student1.sentence())\n",
    "\n",
    "student1 = Students(\"Peter\",\"Paul\",\"HTL Bonn\")\n",
    "print(student1.sentence())\n",
    "\n",
    "    "
   ]
  },
  {
   "cell_type": "markdown",
   "metadata": {},
   "source": [
    "### Challenges\n",
    "Before looking at any of these specific challenges, look back at the class you've created. Are there features of Students that you think are missing? Go ahead and just try and add them yourself! These can be things like registered classes, graduation year, enrollment status, etc. Anything you can think of! Class flexibility is designed so that your approach reflects your own personal understanding of the problem. But for a more structured challenge read on...\n",
    "\n",
    "The challenges here extend the functionality of the base class. These are in topics of class attributes, magic methods, inheritance, and iteration. Don't be afraid to check python documentation on these problems to look for implementation help! No one codes alone!\n",
    "\n",
    "Class is where your own ideas get to come through as a programmer and designer. So there is no one right way to any of these. Give it your best shot and also be creative!\n",
    "\n",
    "__Challenge #1__ add an class wide attribute student count and give every student an ID\n",
    "Create a Class wide count of students that tracks how many students have been created. Then, usi that attriute to give every student a unique ID.\n",
    "\n",
    "__Challenge #2__ add a behavioral method to the students\n",
    "What kind of behavior should a student have? What do they do? Do they study? Research? Maybe a student can declare a major or focus of study?\n",
    "\n",
    "Implement the method and the appropriate attributes that allows a student to print a statement about themselves. These can be as simple as \"say my own name\" or something like printing the student's favorite faculty member\n",
    "\n",
    "__Challenge #3__ create a subclass called Graduate Student\n",
    "The Graduate student should inherit from the base Student class. How do you think Graduate Students should be differentiated from the base Student? Add your own attribute or methods that you think they should have.\n",
    "\n",
    "__Challenge #4__ Create a School Class that has Students as attributes\n",
    "This is a separate class that is called School that can enroll Students, and graduate students. Maybe it can track its own endowment. This would be a large class that is meant to process these students in some way."
   ]
  },
  {
   "cell_type": "code",
   "execution_count": null,
   "metadata": {},
   "outputs": [],
   "source": [
    "# NOTE: I copied the original class code into each cell \n",
    "# as the instructions on how to do each challenge where a bit unclear(Sohee's recommendation)"
   ]
  },
  {
   "cell_type": "code",
   "execution_count": 54,
   "metadata": {},
   "outputs": [
    {
     "name": "stdout",
     "output_type": "stream",
     "text": [
      "Mia Meus is a student at BG Gallus\n",
      "The student ID number is: 1.\n"
     ]
    }
   ],
   "source": [
    "# challenge 1\n",
    "#\n",
    "class Students:\n",
    "    studentcount = 0\n",
    "    def __init__(self,firstname,lastname,schoolname):\n",
    "        self.firstname = firstname\n",
    "        self.lastname = lastname\n",
    "        self.schoolname = schoolname\n",
    "        self.studentcount =+ 1\n",
    "       \n",
    "    def sentence(self):\n",
    "           return \"{firstName} {lastName} is a student at {schoolName}\".format(firstName = self.firstname,lastName = self.lastname,schoolName = self.schoolname)\n",
    "\n",
    "    #this attempt does not woooork\n",
    "    # def idCalculator(self):\n",
    "        #for each in Students()\n",
    "        \n",
    "    def IDnumber(self):\n",
    "        return \"The student ID number is: {studentcount}.\".format(studentcount = self.studentcount)\n",
    "        \n",
    "student1 = Students(\"Mia\",\"Meus\",\"BG Gallus\")\n",
    "print(student1.sentence())\n",
    "print(student1.IDnumber())\n",
    "\n"
   ]
  },
  {
   "cell_type": "code",
   "execution_count": 56,
   "metadata": {},
   "outputs": [
    {
     "name": "stdout",
     "output_type": "stream",
     "text": [
      "Mia Meus is a student at BG Gallus. They study in the Arts department doing experiments.\n",
      "Peter Lois is a student at HTL Bonn. They study in the Engineering department doing research.\n"
     ]
    }
   ],
   "source": [
    "# challenge 2\n",
    "#added major + graduation year to include \"behavior\"\n",
    "\n",
    "class Students:\n",
    "    def __init__(self,firstname,lastname,schoolname,major,practice):\n",
    "        self.firstname = firstname\n",
    "        self.lastname = lastname\n",
    "        self.schoolname = schoolname\n",
    "        self.major = major\n",
    "        self.practice = practice\n",
    "       \n",
    "    def sentence(self):\n",
    "           return \"{firstName} {lastName} is a student at {schoolName}. They study in the {major} department doing {practice}.\".format(firstName = self.firstname,lastName = self.lastname,schoolName = self.schoolname, major= self.major, practice = self.practice)\n",
    "\n",
    "        \n",
    "student1 = Students(\"Mia\",\"Meus\",\"BG Gallus\",\"Arts\",\"experiments\")\n",
    "print(student1.sentence())\n",
    "\n",
    "student1 = Students(\"Peter\",\"Lois\",\"HTL Bonn\",\"Engineering\",\"research\")\n",
    "print(student1.sentence())\n"
   ]
  },
  {
   "cell_type": "code",
   "execution_count": 60,
   "metadata": {},
   "outputs": [
    {
     "name": "stdout",
     "output_type": "stream",
     "text": [
      "Mia Meus is a student at BG Gallus. Their majored in Arts where they did experiments until their graduation in 2013.\n",
      "Pete Lois is a student at HTL Bonn. Their majored in Engineering where they did research until their graduation in 2016.\n"
     ]
    }
   ],
   "source": [
    "# challenge 3\n",
    "\n",
    "class Students:\n",
    "    def __init__(self,firstname,lastname,schoolname,major,practice,graduationyear):\n",
    "        self.firstname = firstname\n",
    "        self.lastname = lastname\n",
    "        self.schoolname = schoolname\n",
    "        self.major = major\n",
    "        self.practice = practice\n",
    "        self.graduationyear = graduationyear\n",
    "       \n",
    "    def sentence(self):\n",
    "           return \"{firstName} {lastName} is a student at {schoolName}. Their majored in {major} where they did {practice} until their graduation in {graduationyear}.\".format(firstName = self.firstname,lastName = self.lastname,schoolName = self.schoolname, major= self.major,practice = self.practice, graduationyear = self.graduationyear)\n",
    "\n",
    "        \n",
    "student1 = Students(\"Mia\",\"Meus\",\"BG Gallus\",\"Arts\",\"experiments\",\"2013\")\n",
    "print(student1.sentence())\n",
    "\n",
    "student1 = Students(\"Pete\",\"Lois\",\"HTL Bonn\",\"Engineering\",\"research\",\"2016\")\n",
    "print(student1.sentence())\n",
    "\n",
    "\n"
   ]
  },
  {
   "cell_type": "code",
   "execution_count": null,
   "metadata": {},
   "outputs": [],
   "source": [
    "# challenge 4"
   ]
  }
 ],
 "metadata": {
  "kernelspec": {
   "display_name": "Python 3",
   "language": "python",
   "name": "python3"
  },
  "language_info": {
   "codemirror_mode": {
    "name": "ipython",
    "version": 3
   },
   "file_extension": ".py",
   "mimetype": "text/x-python",
   "name": "python",
   "nbconvert_exporter": "python",
   "pygments_lexer": "ipython3",
   "version": "3.8.3"
  }
 },
 "nbformat": 4,
 "nbformat_minor": 4
}
