{
 "cells": [
  {
   "cell_type": "markdown",
   "metadata": {},
   "source": [
    "### Assignment 1: Create your own calculator!"
   ]
  },
  {
   "cell_type": "markdown",
   "metadata": {},
   "source": [
    "Before we actually code in Python, please write out how you might build this with code in plain English (pseudocoding!). Pseudocode is an important part of programming and is used in planning an algorithm with sketching out the structure of the program before the actual coding takes place."
   ]
  },
  {
   "cell_type": "code",
   "execution_count": 5,
   "metadata": {},
   "outputs": [],
   "source": [
    "# example psuedocode:\n",
    "# 1. A calculator will take in numbers that we want to use the operators on. So we want store user input\n",
    "# in variables. The first variable will store the first number, the second one will store the second number, \n",
    "# and the third will store the mathematical operator the user wants to perform on these numbers."
   ]
  },
  {
   "cell_type": "markdown",
   "metadata": {},
   "source": [
    "__Using conditionals, operators, and functions, try creating a working calculator! We will go over the solution next week.__\n",
    "\n",
    "_Things to consider:_\n",
    "\n",
    "<li>You may want to ask for user input: use the Python input() method. If you're asking for numbers, you may need to change the input value from a string to a number. Consider using int(x) and float(x) to do so.</li>\n",
    "<li>Use the operators with the conditionals we learned in class! Ex) if user_input == '*': print(x * y) </li>\n",
    "<li>Use if...elif conditionals!</li>\n",
    "<li>Before you put your code into a function for reusability purposes, hard code first to make sure your logic is working</li>\n",
    "<li>Keep it simple and use the four operators we went over in class: +, -, *, /</li>"
   ]
  },
  {
   "cell_type": "code",
   "execution_count": 14,
   "metadata": {},
   "outputs": [
    {
     "name": "stdout",
     "output_type": "stream",
     "text": [
      "Please enter your first number:2\n",
      "Please enter your second number:76\n",
      "1.Add\n",
      "2.Subtract\n",
      "3.Divide\n",
      "4.Multiply\n",
      "Please select an operator:4\n",
      "2.0 * 76.0 = 152.0\n"
     ]
    }
   ],
   "source": [
    "# code down here:\n",
    "\n",
    "# Addition\n",
    "def add(x, y):\n",
    "    return x + y\n",
    "\n",
    "# Subtraction\n",
    "def subtract(x, y):\n",
    "    return x - y\n",
    "\n",
    "# Division\n",
    "def divide(x, y):\n",
    "    return x / y\n",
    "\n",
    "# Multiplication\n",
    "def multiply(x, y):\n",
    "    return x * y\n",
    "\n",
    "\n",
    "x = float(input(\"Please enter your first number:\"))\n",
    "y = float(input (\"Please enter your second number:\"))\n",
    "\n",
    "\n",
    "print(\"1.Add\")\n",
    "print(\"2.Subtract\")\n",
    "print(\"3.Divide\")\n",
    "print(\"4.Multiply\")\n",
    "operator = input (\"Please select an operator:\")\n",
    "\n",
    "if operator == '1':\n",
    "    print(x, \"+\", y, \"=\", add(x, y))\n",
    "    \n",
    "elif operator == \"2\":\n",
    "    print(x, \"-\", y, \"=\", subtract(x, y))\n",
    "\n",
    "elif operator == \"3\":\n",
    "    print(x, \"/\", y, \"=\", divide(x, y))\n",
    "    \n",
    "elif operator == \"4\":\n",
    "    print(x, \"*\", y, \"=\", multiply(x, y))\n",
    "\n",
    "    \n",
    "\n"
   ]
  },
  {
   "cell_type": "code",
   "execution_count": null,
   "metadata": {},
   "outputs": [],
   "source": []
  }
 ],
 "metadata": {
  "kernelspec": {
   "display_name": "Python 3",
   "language": "python",
   "name": "python3"
  }
 },
 "nbformat": 4,
 "nbformat_minor": 4
}
